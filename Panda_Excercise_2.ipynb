{
  "cells": [
    {
      "cell_type": "code",
      "execution_count": null,
      "metadata": {
        "id": "wRUEslj8tJpj"
      },
      "outputs": [],
      "source": [
        "import pandas as pd"
      ]
    },
    {
      "cell_type": "code",
      "execution_count": null,
      "metadata": {
        "colab": {
          "base_uri": "https://localhost:8080/"
        },
        "id": "FUCa8tTJuSQc",
        "outputId": "e8fe3dc7-cfa2-4368-b54d-1395d0a52fe1"
      },
      "outputs": [
        {
          "name": "stdout",
          "output_type": "stream",
          "text": [
            "      Product  Quantity  Price Region  Total_Sale\n",
            "0      Laptop         2   1200  North        2400\n",
            "1     Desktop         1    800  South         800\n",
            "2      Tablet         3    500   West        1500\n",
            "3  Smartphone         2   1000   East        2000\n",
            "4     Printer         1    300  North         300\n",
            "5      Laptop         1   1200  South        1200\n",
            "6     Desktop         2    800   West        1600\n",
            "7      Tablet         2    500   East        1000\n",
            "8  Smartphone         1   1000  North        1000\n",
            "9     Printer         3    300  South         900\n"
          ]
        }
      ],
      "source": [
        "mydataset = {\n",
        "    'Product': [\n",
        "        'Laptop', 'Desktop', 'Tablet', 'Smartphone', 'Printer',\n",
        "        'Laptop', 'Desktop', 'Tablet', 'Smartphone', 'Printer'\n",
        "    ],\n",
        "    'Quantity': [\n",
        "        2, 1, 3, 2, 1,\n",
        "        1, 2, 2, 1, 3\n",
        "    ],\n",
        "    'Price': [\n",
        "        1200, 800, 500, 1000, 300,\n",
        "        1200, 800, 500, 1000, 300\n",
        "    ],\n",
        "    'Region': [\n",
        "        'North', 'South', 'West', 'East', 'North',\n",
        "        'South', 'West', 'East', 'North', 'South'\n",
        "    ]\n",
        "}\n",
        "var = pd.DataFrame(mydataset)\n",
        "var['Total_Sale'] = var['Quantity'] * var['Price']\n",
        "print(var)\n",
        "# myvar.drop(myvar.index, inplace=True)\n",
        "# myvar.drop(columns=[i for i in check_myvar.columns])\n",
        "# myvar = myvar.drop(columns=['Product','Quantity','Price','Region','Total_Sale'])\n",
        "# print(myvar)"
      ]
    },
    {
      "cell_type": "code",
      "execution_count": null,
      "metadata": {
        "colab": {
          "base_uri": "https://localhost:8080/"
        },
        "id": "_4sG5AOYu9DK",
        "outputId": "9e979049-6728-4d78-bc21-3a7cdb74992a"
      },
      "outputs": [
        {
          "name": "stdout",
          "output_type": "stream",
          "text": [
            "Product\n",
            "Desktop       2400\n",
            "Laptop        3600\n",
            "Printer       1200\n",
            "Smartphone    3000\n",
            "Tablet        2500\n",
            "Name: Total_Sale, dtype: int64\n"
          ]
        }
      ],
      "source": [
        "#Finding total sales product wise\n",
        "product_sales = var.groupby('Product')['Total_Sale'].sum()\n",
        "print(product_sales)"
      ]
    },
    {
      "cell_type": "code",
      "execution_count": null,
      "metadata": {
        "colab": {
          "base_uri": "https://localhost:8080/"
        },
        "id": "cTWp8HAoxHs5",
        "outputId": "01dd25ea-3607-4a93-8667-1731109a039b"
      },
      "outputs": [
        {
          "name": "stdout",
          "output_type": "stream",
          "text": [
            "Product\n",
            "Desktop       1200.0\n",
            "Laptop        1800.0\n",
            "Printer        600.0\n",
            "Smartphone    1500.0\n",
            "Tablet        1250.0\n",
            "Name: Total_Sale, dtype: float64\n"
          ]
        }
      ],
      "source": [
        "# Calculate the average ales price for each product\n",
        "average_sales = var.groupby('Product')['Total_Sale'].mean()\n",
        "print(average_sales)"
      ]
    },
    {
      "cell_type": "code",
      "execution_count": null,
      "metadata": {
        "colab": {
          "base_uri": "https://localhost:8080/"
        },
        "id": "5x76bkMHxKAK",
        "outputId": "7ed42b84-1576-4542-feea-5eec93612108"
      },
      "outputs": [
        {
          "name": "stdout",
          "output_type": "stream",
          "text": [
            "3600\n"
          ]
        }
      ],
      "source": [
        "# Identify the product ith highest sales\n",
        "print(product_sales.max())"
      ]
    },
    {
      "cell_type": "code",
      "execution_count": null,
      "metadata": {
        "colab": {
          "base_uri": "https://localhost:8080/"
        },
        "id": "I7-aMTeZ3BE-",
        "outputId": "3a210b1d-3fa0-42ce-9805-892c66fdf091"
      },
      "outputs": [
        {
          "name": "stdout",
          "output_type": "stream",
          "text": [
            "Region\n",
            "East     3000\n",
            "North    3700\n",
            "South    2900\n",
            "West     3100\n",
            "Name: Total_Sale, dtype: int64\n"
          ]
        }
      ],
      "source": [
        "# calculate the total sales for eaxh region\n",
        "region_sales = var.groupby('Region')['Total_Sale'].sum()\n",
        "print(region_sales)"
      ]
    },
    {
      "cell_type": "code",
      "execution_count": null,
      "metadata": {
        "colab": {
          "base_uri": "https://localhost:8080/"
        },
        "id": "sY_K0-Xv4BId",
        "outputId": "a1d2c0b6-eada-4297-f3fe-dd0323c70d07"
      },
      "outputs": [
        {
          "name": "stdout",
          "output_type": "stream",
          "text": [
            "3700\n"
          ]
        }
      ],
      "source": [
        "# Identify the region with hhighest total sales\n",
        "print(region_sales.max())"
      ]
    },
    {
      "cell_type": "code",
      "execution_count": null,
      "metadata": {
        "id": "hVBLOWkj4FRH"
      },
      "outputs": [],
      "source": []
    }
  ],
  "metadata": {
    "colab": {
      "provenance": []
    },
    "kernelspec": {
      "display_name": "Python 3",
      "name": "python3"
    },
    "language_info": {
      "name": "python"
    }
  },
  "nbformat": 4,
  "nbformat_minor": 0
}
